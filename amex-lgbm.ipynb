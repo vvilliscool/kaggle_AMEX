{
 "cells": [
  {
   "cell_type": "code",
   "execution_count": 1,
   "id": "82b08c0c",
   "metadata": {
    "_cell_guid": "b1076dfc-b9ad-4769-8c92-a6c4dae69d19",
    "_uuid": "8f2839f25d086af736a60e9eeb907d3b93b6e0e5",
    "execution": {
     "iopub.execute_input": "2022-08-13T04:55:08.920814Z",
     "iopub.status.busy": "2022-08-13T04:55:08.919657Z",
     "iopub.status.idle": "2022-08-13T04:55:10.128999Z",
     "shell.execute_reply": "2022-08-13T04:55:10.127818Z"
    },
    "papermill": {
     "duration": 1.222213,
     "end_time": "2022-08-13T04:55:10.132454",
     "exception": false,
     "start_time": "2022-08-13T04:55:08.910241",
     "status": "completed"
    },
    "tags": []
   },
   "outputs": [],
   "source": [
    "import numpy as np\n",
    "import pandas as pd\n",
    "import matplotlib.pyplot as plt\n",
    "import seaborn as sns"
   ]
  },
  {
   "cell_type": "code",
   "execution_count": 2,
   "id": "694d9b7c",
   "metadata": {
    "execution": {
     "iopub.execute_input": "2022-08-13T04:55:10.145886Z",
     "iopub.status.busy": "2022-08-13T04:55:10.145155Z",
     "iopub.status.idle": "2022-08-13T04:55:10.380939Z",
     "shell.execute_reply": "2022-08-13T04:55:10.379622Z"
    },
    "papermill": {
     "duration": 0.245721,
     "end_time": "2022-08-13T04:55:10.383966",
     "exception": false,
     "start_time": "2022-08-13T04:55:10.138245",
     "status": "completed"
    },
    "tags": []
   },
   "outputs": [],
   "source": [
    "from sklearn.preprocessing import LabelEncoder,MinMaxScaler\n",
    "from sklearn.model_selection import train_test_split\n",
    "from sklearn.metrics import classification_report,confusion_matrix"
   ]
  },
  {
   "cell_type": "code",
   "execution_count": 3,
   "id": "b1880425",
   "metadata": {
    "execution": {
     "iopub.execute_input": "2022-08-13T04:55:10.399216Z",
     "iopub.status.busy": "2022-08-13T04:55:10.398135Z",
     "iopub.status.idle": "2022-08-13T04:55:10.405304Z",
     "shell.execute_reply": "2022-08-13T04:55:10.404150Z"
    },
    "papermill": {
     "duration": 0.019069,
     "end_time": "2022-08-13T04:55:10.409373",
     "exception": false,
     "start_time": "2022-08-13T04:55:10.390304",
     "status": "completed"
    },
    "tags": []
   },
   "outputs": [],
   "source": [
    "import warnings, gc\n",
    "warnings.filterwarnings(\"ignore\")"
   ]
  },
  {
   "cell_type": "code",
   "execution_count": 4,
   "id": "4f1089ee",
   "metadata": {
    "execution": {
     "iopub.execute_input": "2022-08-13T04:55:10.427372Z",
     "iopub.status.busy": "2022-08-13T04:55:10.426812Z",
     "iopub.status.idle": "2022-08-13T04:55:11.338826Z",
     "shell.execute_reply": "2022-08-13T04:55:11.337604Z"
    },
    "papermill": {
     "duration": 0.924482,
     "end_time": "2022-08-13T04:55:11.341988",
     "exception": false,
     "start_time": "2022-08-13T04:55:10.417506",
     "status": "completed"
    },
    "tags": []
   },
   "outputs": [
    {
     "data": {
      "text/html": [
       "<style type='text/css'>\n",
       ".datatable table.frame { margin-bottom: 0; }\n",
       ".datatable table.frame thead { border-bottom: none; }\n",
       ".datatable table.frame tr.coltypes td {  color: #FFFFFF;  line-height: 6px;  padding: 0 0.5em;}\n",
       ".datatable .bool    { background: #DDDD99; }\n",
       ".datatable .object  { background: #565656; }\n",
       ".datatable .int     { background: #5D9E5D; }\n",
       ".datatable .float   { background: #4040CC; }\n",
       ".datatable .str     { background: #CC4040; }\n",
       ".datatable .time    { background: #40CC40; }\n",
       ".datatable .row_index {  background: var(--jp-border-color3);  border-right: 1px solid var(--jp-border-color0);  color: var(--jp-ui-font-color3);  font-size: 9px;}\n",
       ".datatable .frame tbody td { text-align: left; }\n",
       ".datatable .frame tr.coltypes .row_index {  background: var(--jp-border-color0);}\n",
       ".datatable th:nth-child(2) { padding-left: 12px; }\n",
       ".datatable .hellipsis {  color: var(--jp-cell-editor-border-color);}\n",
       ".datatable .vellipsis {  background: var(--jp-layout-color0);  color: var(--jp-cell-editor-border-color);}\n",
       ".datatable .na {  color: var(--jp-cell-editor-border-color);  font-size: 80%;}\n",
       ".datatable .sp {  opacity: 0.25;}\n",
       ".datatable .footer { font-size: 9px; }\n",
       ".datatable .frame_dimensions {  background: var(--jp-border-color3);  border-top: 1px solid var(--jp-border-color0);  color: var(--jp-ui-font-color3);  display: inline-block;  opacity: 0.6;  padding: 1px 10px 1px 5px;}\n",
       "</style>\n"
      ],
      "text/plain": [
       "<IPython.core.display.HTML object>"
      ]
     },
     "metadata": {},
     "output_type": "display_data"
    }
   ],
   "source": [
    "from lightgbm import plot_importance\n",
    "from lightgbm import LGBMClassifier"
   ]
  },
  {
   "cell_type": "code",
   "execution_count": 5,
   "id": "aa120714",
   "metadata": {
    "execution": {
     "iopub.execute_input": "2022-08-13T04:55:11.355870Z",
     "iopub.status.busy": "2022-08-13T04:55:11.355438Z",
     "iopub.status.idle": "2022-08-13T04:58:11.719884Z",
     "shell.execute_reply": "2022-08-13T04:58:11.715399Z"
    },
    "papermill": {
     "duration": 180.383841,
     "end_time": "2022-08-13T04:58:11.732077",
     "exception": false,
     "start_time": "2022-08-13T04:55:11.348236",
     "status": "completed"
    },
    "tags": []
   },
   "outputs": [
    {
     "name": "stdout",
     "output_type": "stream",
     "text": [
      "CPU times: user 2min 22s, sys: 36.1 s, total: 2min 58s\n",
      "Wall time: 3min\n"
     ]
    }
   ],
   "source": [
    "%%time\n",
    "train = pd.read_parquet(\"../input/amex-data-integer-dtypes-parquet-format/train.parquet\")\n",
    "label = pd.read_csv(\"../input/amex-default-prediction/train_labels.csv\")\n",
    "train = train.merge(label,how='inner',on=\"customer_ID\")"
   ]
  },
  {
   "cell_type": "code",
   "execution_count": 6,
   "id": "db223afd",
   "metadata": {
    "execution": {
     "iopub.execute_input": "2022-08-13T04:58:11.748012Z",
     "iopub.status.busy": "2022-08-13T04:58:11.747128Z",
     "iopub.status.idle": "2022-08-13T04:58:14.868442Z",
     "shell.execute_reply": "2022-08-13T04:58:14.867100Z"
    },
    "papermill": {
     "duration": 3.132855,
     "end_time": "2022-08-13T04:58:14.871625",
     "exception": false,
     "start_time": "2022-08-13T04:58:11.738770",
     "status": "completed"
    },
    "tags": []
   },
   "outputs": [],
   "source": [
    "lab = LabelEncoder()\n",
    "train['customer_ID']= lab.fit_transform(train['customer_ID'])\n"
   ]
  },
  {
   "cell_type": "code",
   "execution_count": 7,
   "id": "86c6d5ab",
   "metadata": {
    "execution": {
     "iopub.execute_input": "2022-08-13T04:58:14.885372Z",
     "iopub.status.busy": "2022-08-13T04:58:14.884937Z",
     "iopub.status.idle": "2022-08-13T04:58:19.189159Z",
     "shell.execute_reply": "2022-08-13T04:58:19.188229Z"
    },
    "papermill": {
     "duration": 4.314648,
     "end_time": "2022-08-13T04:58:19.192320",
     "exception": false,
     "start_time": "2022-08-13T04:58:14.877672",
     "status": "completed"
    },
    "tags": []
   },
   "outputs": [
    {
     "name": "stdout",
     "output_type": "stream",
     "text": [
      "CPU times: user 1.9 s, sys: 2.39 s, total: 4.29 s\n",
      "Wall time: 4.3 s\n"
     ]
    }
   ],
   "source": [
    "%%time\n",
    "train = train.groupby(['customer_ID']).tail(1).set_index('customer_ID')"
   ]
  },
  {
   "cell_type": "code",
   "execution_count": 8,
   "id": "30c53192",
   "metadata": {
    "execution": {
     "iopub.execute_input": "2022-08-13T04:58:19.206623Z",
     "iopub.status.busy": "2022-08-13T04:58:19.206196Z",
     "iopub.status.idle": "2022-08-13T04:59:01.540968Z",
     "shell.execute_reply": "2022-08-13T04:59:01.539899Z"
    },
    "papermill": {
     "duration": 42.349182,
     "end_time": "2022-08-13T04:59:01.548073",
     "exception": false,
     "start_time": "2022-08-13T04:58:19.198891",
     "status": "completed"
    },
    "tags": []
   },
   "outputs": [
    {
     "name": "stdout",
     "output_type": "stream",
     "text": [
      "CPU times: user 20.6 s, sys: 17 s, total: 37.6 s\n",
      "Wall time: 42.3 s\n"
     ]
    }
   ],
   "source": [
    "%%time\n",
    "test = pd.read_parquet(\"../input/amex-data-integer-dtypes-parquet-format/test.parquet\")"
   ]
  },
  {
   "cell_type": "code",
   "execution_count": 9,
   "id": "53b7cb0b",
   "metadata": {
    "execution": {
     "iopub.execute_input": "2022-08-13T04:59:01.562131Z",
     "iopub.status.busy": "2022-08-13T04:59:01.561694Z",
     "iopub.status.idle": "2022-08-13T04:59:09.955022Z",
     "shell.execute_reply": "2022-08-13T04:59:09.953771Z"
    },
    "papermill": {
     "duration": 8.404162,
     "end_time": "2022-08-13T04:59:09.958232",
     "exception": false,
     "start_time": "2022-08-13T04:59:01.554070",
     "status": "completed"
    },
    "tags": []
   },
   "outputs": [],
   "source": [
    "test['customer_ID']= lab.fit_transform(test['customer_ID'])\n",
    "test = test.groupby(['customer_ID']).tail(1).set_index('customer_ID')"
   ]
  },
  {
   "cell_type": "code",
   "execution_count": 10,
   "id": "7e974f6a",
   "metadata": {
    "execution": {
     "iopub.execute_input": "2022-08-13T04:59:09.975591Z",
     "iopub.status.busy": "2022-08-13T04:59:09.975130Z",
     "iopub.status.idle": "2022-08-13T04:59:11.970691Z",
     "shell.execute_reply": "2022-08-13T04:59:11.969575Z"
    },
    "papermill": {
     "duration": 2.00934,
     "end_time": "2022-08-13T04:59:11.973654",
     "exception": false,
     "start_time": "2022-08-13T04:59:09.964314",
     "status": "completed"
    },
    "tags": []
   },
   "outputs": [],
   "source": [
    "y = train.target\n",
    "X = train.drop([\"target\",\"S_2\"],axis=1)\n",
    "test = test.drop(['S_2'],axis=1)\n",
    "\n",
    "X = X.fillna(-1)\n",
    "test = test.fillna(-1)"
   ]
  },
  {
   "cell_type": "code",
   "execution_count": 11,
   "id": "8d6ae4c6",
   "metadata": {
    "execution": {
     "iopub.execute_input": "2022-08-13T04:59:11.987926Z",
     "iopub.status.busy": "2022-08-13T04:59:11.987494Z",
     "iopub.status.idle": "2022-08-13T04:59:11.994428Z",
     "shell.execute_reply": "2022-08-13T04:59:11.993243Z"
    },
    "papermill": {
     "duration": 0.016943,
     "end_time": "2022-08-13T04:59:11.996921",
     "exception": false,
     "start_time": "2022-08-13T04:59:11.979978",
     "status": "completed"
    },
    "tags": []
   },
   "outputs": [],
   "source": [
    "cat_cols = ['B_30', 'B_38', 'D_63', 'D_64', 'D_66', \n",
    "            'D_68', 'D_114', 'D_116', 'D_117', 'D_120', 'D_126']\n",
    "\n",
    "num_cols = [col for col in X.columns if col not in cat_cols]\n",
    "\n",
    "all_cols = [cat_cols,num_cols]"
   ]
  },
  {
   "cell_type": "code",
   "execution_count": 12,
   "id": "2372979b",
   "metadata": {
    "execution": {
     "iopub.execute_input": "2022-08-13T04:59:12.011159Z",
     "iopub.status.busy": "2022-08-13T04:59:12.010355Z",
     "iopub.status.idle": "2022-08-13T04:59:12.018111Z",
     "shell.execute_reply": "2022-08-13T04:59:12.016909Z"
    },
    "papermill": {
     "duration": 0.017434,
     "end_time": "2022-08-13T04:59:12.020583",
     "exception": false,
     "start_time": "2022-08-13T04:59:12.003149",
     "status": "completed"
    },
    "tags": []
   },
   "outputs": [],
   "source": [
    "D_n_cols = [col for col in num_cols if col.startswith(\"D\")]\n",
    "S_n_cols = [col for col in num_cols if col.startswith(\"S\")]\n",
    "P_n_cols = [col for col in num_cols if col.startswith(\"P\")]\n",
    "B_n_cols = [col for col in num_cols if col.startswith(\"B\")]\n",
    "R_n_cols = [col for col in num_cols if col.startswith(\"R\")]\n",
    "D_c_cols = [col for col in cat_cols if col.startswith(\"D\")]\n",
    "B_c_cols = [col for col in cat_cols if col.startswith(\"B\")] "
   ]
  },
  {
   "cell_type": "code",
   "execution_count": 13,
   "id": "b72dd9f8",
   "metadata": {
    "execution": {
     "iopub.execute_input": "2022-08-13T04:59:12.034439Z",
     "iopub.status.busy": "2022-08-13T04:59:12.033906Z",
     "iopub.status.idle": "2022-08-13T04:59:22.132657Z",
     "shell.execute_reply": "2022-08-13T04:59:22.131011Z"
    },
    "papermill": {
     "duration": 10.109152,
     "end_time": "2022-08-13T04:59:22.135720",
     "exception": false,
     "start_time": "2022-08-13T04:59:12.026568",
     "status": "completed"
    },
    "tags": []
   },
   "outputs": [
    {
     "name": "stdout",
     "output_type": "stream",
     "text": [
      "X shape after engineering (458913, 576)\n",
      "CPU times: user 9.04 s, sys: 1.03 s, total: 10.1 s\n",
      "Wall time: 10.1 s\n"
     ]
    }
   ],
   "source": [
    "%%time \n",
    "X_num_agg_D = X.groupby(\"customer_ID\")[D_n_cols].agg(['mean','min', 'last'])\n",
    "X_num_agg_D.columns = ['_'.join(x) for x in X_num_agg_D.columns]\n",
    "\n",
    "X_num_agg_S = X.groupby(\"customer_ID\")[S_n_cols].agg(['mean','min', 'last'])\n",
    "X_num_agg_S.columns = ['_'.join(x) for x in X_num_agg_S.columns]\n",
    "\n",
    "X_num_agg_P = X.groupby(\"customer_ID\")[P_n_cols].agg(['mean','min','max' ,'last'])\n",
    "X_num_agg_P.columns = ['_'.join(x) for x in X_num_agg_P.columns]\n",
    "\n",
    "X_num_agg_B = X.groupby(\"customer_ID\")[B_n_cols].agg(['mean','min', 'last'])\n",
    "X_num_agg_B.columns = ['_'.join(x) for x in X_num_agg_B.columns]\n",
    "\n",
    "X_num_agg_R = X.groupby(\"customer_ID\")[R_n_cols].agg(['mean','min','last'])\n",
    "X_num_agg_R.columns = ['_'.join(x) for x in X_num_agg_R.columns]\n",
    "\n",
    "X_cat_agg_D = X.groupby(\"customer_ID\")[D_c_cols].agg([ 'count','last','first','nunique'])\n",
    "X_cat_agg_D.columns = ['_'.join(x) for x in X_cat_agg_D.columns]\n",
    "\n",
    "X_cat_agg_B = X.groupby(\"customer_ID\")[B_c_cols].agg([ 'count','last','nunique'])\n",
    "X_cat_agg_B.columns = ['_'.join(x) for x in X_cat_agg_B.columns]\n",
    "\n",
    "X = pd.concat([X_num_agg_D, X_num_agg_S,X_num_agg_P,X_num_agg_B,X_num_agg_R,X_cat_agg_D,X_cat_agg_B], axis=1)\n",
    "del X_num_agg_D, X_num_agg_S,X_num_agg_P,X_num_agg_B,X_num_agg_R,X_cat_agg_D,X_cat_agg_B\n",
    "_ = gc.collect()\n",
    "\n",
    "print('X shape after engineering', X.shape)"
   ]
  },
  {
   "cell_type": "code",
   "execution_count": 14,
   "id": "165cc1a6",
   "metadata": {
    "execution": {
     "iopub.execute_input": "2022-08-13T04:59:22.149777Z",
     "iopub.status.busy": "2022-08-13T04:59:22.149342Z",
     "iopub.status.idle": "2022-08-13T04:59:41.513265Z",
     "shell.execute_reply": "2022-08-13T04:59:41.511696Z"
    },
    "papermill": {
     "duration": 19.374177,
     "end_time": "2022-08-13T04:59:41.516096",
     "exception": false,
     "start_time": "2022-08-13T04:59:22.141919",
     "status": "completed"
    },
    "tags": []
   },
   "outputs": [
    {
     "name": "stdout",
     "output_type": "stream",
     "text": [
      "Test shape after engineering (924621, 576)\n",
      "CPU times: user 17.7 s, sys: 1.68 s, total: 19.3 s\n",
      "Wall time: 19.4 s\n"
     ]
    }
   ],
   "source": [
    "%%time \n",
    "test_num_agg_D = test.groupby(\"customer_ID\")[D_n_cols].agg(['mean','min', 'last'])\n",
    "test_num_agg_D.columns = ['_'.join(x) for x in test_num_agg_D.columns]\n",
    "\n",
    "test_num_agg_S = test.groupby(\"customer_ID\")[S_n_cols].agg(['mean','min', 'last'])\n",
    "test_num_agg_S.columns = ['_'.join(x) for x in test_num_agg_S.columns]\n",
    "\n",
    "test_num_agg_P = test.groupby(\"customer_ID\")[P_n_cols].agg(['mean','min','max', 'last'])\n",
    "test_num_agg_P.columns = ['_'.join(x) for x in test_num_agg_P.columns]\n",
    "\n",
    "test_num_agg_B = test.groupby(\"customer_ID\")[B_n_cols].agg(['mean','min', 'last'])\n",
    "test_num_agg_B.columns = ['_'.join(x) for x in test_num_agg_B.columns]\n",
    "\n",
    "test_num_agg_R = test.groupby(\"customer_ID\")[R_n_cols].agg(['mean','min', 'last'])\n",
    "test_num_agg_R.columns = ['_'.join(x) for x in test_num_agg_R.columns]\n",
    "\n",
    "test_cat_agg_D = test.groupby(\"customer_ID\")[D_c_cols].agg(['count','first', 'last','nunique'])\n",
    "test_cat_agg_D.columns = ['_'.join(x) for x in test_cat_agg_D.columns]\n",
    "\n",
    "test_cat_agg_B = test.groupby(\"customer_ID\")[B_c_cols].agg([ 'count','last','nunique'])\n",
    "test_cat_agg_B.columns = ['_'.join(x) for x in test_cat_agg_B.columns]\n",
    "\n",
    "test = pd.concat([test_num_agg_D, test_num_agg_S,test_num_agg_P,test_num_agg_B,test_num_agg_R,test_cat_agg_D,test_cat_agg_B], axis=1)\n",
    "del test_num_agg_D, test_num_agg_S,test_num_agg_P,test_num_agg_B,test_num_agg_R,test_cat_agg_D,test_cat_agg_B\n",
    "_ = gc.collect()\n",
    "\n",
    "print('Test shape after engineering', test.shape)"
   ]
  },
  {
   "cell_type": "code",
   "execution_count": 15,
   "id": "c001f443",
   "metadata": {
    "execution": {
     "iopub.execute_input": "2022-08-13T04:59:41.530996Z",
     "iopub.status.busy": "2022-08-13T04:59:41.529791Z",
     "iopub.status.idle": "2022-08-13T04:59:43.967099Z",
     "shell.execute_reply": "2022-08-13T04:59:43.965841Z"
    },
    "papermill": {
     "duration": 2.447412,
     "end_time": "2022-08-13T04:59:43.969899",
     "exception": false,
     "start_time": "2022-08-13T04:59:41.522487",
     "status": "completed"
    },
    "tags": []
   },
   "outputs": [],
   "source": [
    "X_train,X_valid,y_train,y_valid = train_test_split(X, y, test_size=0.4,stratify=y)"
   ]
  },
  {
   "cell_type": "code",
   "execution_count": 16,
   "id": "1387b2c5",
   "metadata": {
    "execution": {
     "iopub.execute_input": "2022-08-13T04:59:43.985618Z",
     "iopub.status.busy": "2022-08-13T04:59:43.985078Z",
     "iopub.status.idle": "2022-08-13T05:00:45.959334Z",
     "shell.execute_reply": "2022-08-13T05:00:45.957962Z"
    },
    "papermill": {
     "duration": 61.991357,
     "end_time": "2022-08-13T05:00:45.968217",
     "exception": false,
     "start_time": "2022-08-13T04:59:43.976860",
     "status": "completed"
    },
    "tags": []
   },
   "outputs": [
    {
     "name": "stdout",
     "output_type": "stream",
     "text": [
      "train :  0.9077019179435404\n",
      "test :  0.9000849830578648\n"
     ]
    }
   ],
   "source": [
    "my_model = LGBMClassifier(n_estimators=130)\n",
    "my_model.fit(X_train, y_train)\n",
    "train_score = my_model.score(X_train, y_train)\n",
    "test_score = my_model.score(X_valid, y_valid)\n",
    "print('train : ',train_score)\n",
    "print('test : ',test_score)"
   ]
  },
  {
   "cell_type": "code",
   "execution_count": 17,
   "id": "9c2ea4b5",
   "metadata": {
    "execution": {
     "iopub.execute_input": "2022-08-13T05:00:45.983374Z",
     "iopub.status.busy": "2022-08-13T05:00:45.982859Z",
     "iopub.status.idle": "2022-08-13T05:01:00.843749Z",
     "shell.execute_reply": "2022-08-13T05:01:00.842462Z"
    },
    "papermill": {
     "duration": 14.871596,
     "end_time": "2022-08-13T05:01:00.846525",
     "exception": false,
     "start_time": "2022-08-13T05:00:45.974929",
     "status": "completed"
    },
    "tags": []
   },
   "outputs": [
    {
     "data": {
      "text/plain": [
       "array([0.02349888, 0.00155124, 0.04278203, ..., 0.52551257, 0.41041943,\n",
       "       0.07891399])"
      ]
     },
     "execution_count": 17,
     "metadata": {},
     "output_type": "execute_result"
    }
   ],
   "source": [
    "pred_test = my_model.predict_proba(test)\n",
    "preds = pd.DataFrame(pred_test)\n",
    "pred_final = np.array(preds[1])\n",
    "pred_final"
   ]
  },
  {
   "cell_type": "code",
   "execution_count": 18,
   "id": "2f6dfba2",
   "metadata": {
    "execution": {
     "iopub.execute_input": "2022-08-13T05:01:00.860988Z",
     "iopub.status.busy": "2022-08-13T05:01:00.860567Z",
     "iopub.status.idle": "2022-08-13T05:01:02.763758Z",
     "shell.execute_reply": "2022-08-13T05:01:02.762410Z"
    },
    "papermill": {
     "duration": 1.913687,
     "end_time": "2022-08-13T05:01:02.766532",
     "exception": false,
     "start_time": "2022-08-13T05:01:00.852845",
     "status": "completed"
    },
    "tags": []
   },
   "outputs": [
    {
     "data": {
      "text/html": [
       "<div>\n",
       "<style scoped>\n",
       "    .dataframe tbody tr th:only-of-type {\n",
       "        vertical-align: middle;\n",
       "    }\n",
       "\n",
       "    .dataframe tbody tr th {\n",
       "        vertical-align: top;\n",
       "    }\n",
       "\n",
       "    .dataframe thead th {\n",
       "        text-align: right;\n",
       "    }\n",
       "</style>\n",
       "<table border=\"1\" class=\"dataframe\">\n",
       "  <thead>\n",
       "    <tr style=\"text-align: right;\">\n",
       "      <th></th>\n",
       "      <th>customer_ID</th>\n",
       "      <th>prediction</th>\n",
       "    </tr>\n",
       "  </thead>\n",
       "  <tbody>\n",
       "    <tr>\n",
       "      <th>0</th>\n",
       "      <td>00000469ba478561f23a92a868bd366de6f6527a684c9a...</td>\n",
       "      <td>0.023499</td>\n",
       "    </tr>\n",
       "    <tr>\n",
       "      <th>1</th>\n",
       "      <td>00001bf2e77ff879fab36aa4fac689b9ba411dae63ae39...</td>\n",
       "      <td>0.001551</td>\n",
       "    </tr>\n",
       "    <tr>\n",
       "      <th>2</th>\n",
       "      <td>0000210045da4f81e5f122c6bde5c2a617d03eef67f82c...</td>\n",
       "      <td>0.042782</td>\n",
       "    </tr>\n",
       "    <tr>\n",
       "      <th>3</th>\n",
       "      <td>00003b41e58ede33b8daf61ab56d9952f17c9ad1c3976c...</td>\n",
       "      <td>0.366460</td>\n",
       "    </tr>\n",
       "    <tr>\n",
       "      <th>4</th>\n",
       "      <td>00004b22eaeeeb0ec976890c1d9bfc14fd9427e98c4ee9...</td>\n",
       "      <td>0.911382</td>\n",
       "    </tr>\n",
       "    <tr>\n",
       "      <th>...</th>\n",
       "      <td>...</td>\n",
       "      <td>...</td>\n",
       "    </tr>\n",
       "    <tr>\n",
       "      <th>924616</th>\n",
       "      <td>ffff952c631f2c911b8a2a8ca56ea6e656309a83d2f64c...</td>\n",
       "      <td>0.017429</td>\n",
       "    </tr>\n",
       "    <tr>\n",
       "      <th>924617</th>\n",
       "      <td>ffffcf5df59e5e0bba2a5ac4578a34e2b5aa64a1546cd3...</td>\n",
       "      <td>0.730796</td>\n",
       "    </tr>\n",
       "    <tr>\n",
       "      <th>924618</th>\n",
       "      <td>ffffd61f098cc056dbd7d2a21380c4804bbfe60856f475...</td>\n",
       "      <td>0.525513</td>\n",
       "    </tr>\n",
       "    <tr>\n",
       "      <th>924619</th>\n",
       "      <td>ffffddef1fc3643ea179c93245b68dca0f36941cd83977...</td>\n",
       "      <td>0.410419</td>\n",
       "    </tr>\n",
       "    <tr>\n",
       "      <th>924620</th>\n",
       "      <td>fffffa7cf7e453e1acc6a1426475d5cb9400859f82ff61...</td>\n",
       "      <td>0.078914</td>\n",
       "    </tr>\n",
       "  </tbody>\n",
       "</table>\n",
       "<p>924621 rows × 2 columns</p>\n",
       "</div>"
      ],
      "text/plain": [
       "                                              customer_ID  prediction\n",
       "0       00000469ba478561f23a92a868bd366de6f6527a684c9a...    0.023499\n",
       "1       00001bf2e77ff879fab36aa4fac689b9ba411dae63ae39...    0.001551\n",
       "2       0000210045da4f81e5f122c6bde5c2a617d03eef67f82c...    0.042782\n",
       "3       00003b41e58ede33b8daf61ab56d9952f17c9ad1c3976c...    0.366460\n",
       "4       00004b22eaeeeb0ec976890c1d9bfc14fd9427e98c4ee9...    0.911382\n",
       "...                                                   ...         ...\n",
       "924616  ffff952c631f2c911b8a2a8ca56ea6e656309a83d2f64c...    0.017429\n",
       "924617  ffffcf5df59e5e0bba2a5ac4578a34e2b5aa64a1546cd3...    0.730796\n",
       "924618  ffffd61f098cc056dbd7d2a21380c4804bbfe60856f475...    0.525513\n",
       "924619  ffffddef1fc3643ea179c93245b68dca0f36941cd83977...    0.410419\n",
       "924620  fffffa7cf7e453e1acc6a1426475d5cb9400859f82ff61...    0.078914\n",
       "\n",
       "[924621 rows x 2 columns]"
      ]
     },
     "execution_count": 18,
     "metadata": {},
     "output_type": "execute_result"
    }
   ],
   "source": [
    "submission = pd.read_csv(\"../input/amex-default-prediction/sample_submission.csv\")\n",
    "submission['prediction']=pred_final\n",
    "submission"
   ]
  },
  {
   "cell_type": "code",
   "execution_count": 19,
   "id": "67843731",
   "metadata": {
    "execution": {
     "iopub.execute_input": "2022-08-13T05:01:02.781696Z",
     "iopub.status.busy": "2022-08-13T05:01:02.780789Z",
     "iopub.status.idle": "2022-08-13T05:01:06.146399Z",
     "shell.execute_reply": "2022-08-13T05:01:06.145345Z"
    },
    "papermill": {
     "duration": 3.376322,
     "end_time": "2022-08-13T05:01:06.149204",
     "exception": false,
     "start_time": "2022-08-13T05:01:02.772882",
     "status": "completed"
    },
    "tags": []
   },
   "outputs": [],
   "source": [
    "submission.to_csv(\"submission.csv\",index=False)"
   ]
  },
  {
   "cell_type": "code",
   "execution_count": null,
   "id": "5d65e328",
   "metadata": {
    "papermill": {
     "duration": 0.00604,
     "end_time": "2022-08-13T05:01:06.161953",
     "exception": false,
     "start_time": "2022-08-13T05:01:06.155913",
     "status": "completed"
    },
    "tags": []
   },
   "outputs": [],
   "source": []
  }
 ],
 "metadata": {
  "kernelspec": {
   "display_name": "Python 3",
   "language": "python",
   "name": "python3"
  },
  "language_info": {
   "codemirror_mode": {
    "name": "ipython",
    "version": 3
   },
   "file_extension": ".py",
   "mimetype": "text/x-python",
   "name": "python",
   "nbconvert_exporter": "python",
   "pygments_lexer": "ipython3",
   "version": "3.7.12"
  },
  "papermill": {
   "default_parameters": {},
   "duration": 368.408599,
   "end_time": "2022-08-13T05:01:07.498192",
   "environment_variables": {},
   "exception": null,
   "input_path": "__notebook__.ipynb",
   "output_path": "__notebook__.ipynb",
   "parameters": {},
   "start_time": "2022-08-13T04:54:59.089593",
   "version": "2.3.4"
  }
 },
 "nbformat": 4,
 "nbformat_minor": 5
}
